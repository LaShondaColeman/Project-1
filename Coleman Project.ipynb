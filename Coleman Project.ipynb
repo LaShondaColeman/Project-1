{
 "cells": [
  {
   "cell_type": "markdown",
   "metadata": {},
   "source": [
    "#                                        CHILDREN IN FOSTER CARE"
   ]
  },
  {
   "cell_type": "code",
   "execution_count": 13,
   "metadata": {},
   "outputs": [],
   "source": [
    "import pandas as pd\n",
    "import numpy as np"
   ]
  },
  {
   "cell_type": "code",
   "execution_count": 22,
   "metadata": {},
   "outputs": [
    {
     "data": {
      "text/html": [
       "<div>\n",
       "<style scoped>\n",
       "    .dataframe tbody tr th:only-of-type {\n",
       "        vertical-align: middle;\n",
       "    }\n",
       "\n",
       "    .dataframe tbody tr th {\n",
       "        vertical-align: top;\n",
       "    }\n",
       "\n",
       "    .dataframe thead th {\n",
       "        text-align: right;\n",
       "    }\n",
       "</style>\n",
       "<table border=\"1\" class=\"dataframe\">\n",
       "  <thead>\n",
       "    <tr style=\"text-align: right;\">\n",
       "      <th></th>\n",
       "      <th>LocationType</th>\n",
       "      <th>Location</th>\n",
       "      <th>TimeFrame</th>\n",
       "      <th>DataFormat</th>\n",
       "      <th>Data</th>\n",
       "    </tr>\n",
       "  </thead>\n",
       "  <tbody>\n",
       "    <tr>\n",
       "      <th>0</th>\n",
       "      <td>Nation</td>\n",
       "      <td>United States</td>\n",
       "      <td>2000</td>\n",
       "      <td>Number</td>\n",
       "      <td>544303</td>\n",
       "    </tr>\n",
       "    <tr>\n",
       "      <th>1</th>\n",
       "      <td>Nation</td>\n",
       "      <td>United States</td>\n",
       "      <td>2001</td>\n",
       "      <td>Number</td>\n",
       "      <td>544614</td>\n",
       "    </tr>\n",
       "    <tr>\n",
       "      <th>2</th>\n",
       "      <td>Nation</td>\n",
       "      <td>United States</td>\n",
       "      <td>2002</td>\n",
       "      <td>Number</td>\n",
       "      <td>532717</td>\n",
       "    </tr>\n",
       "    <tr>\n",
       "      <th>3</th>\n",
       "      <td>Nation</td>\n",
       "      <td>United States</td>\n",
       "      <td>2003</td>\n",
       "      <td>Number</td>\n",
       "      <td>519482</td>\n",
       "    </tr>\n",
       "    <tr>\n",
       "      <th>4</th>\n",
       "      <td>Nation</td>\n",
       "      <td>United States</td>\n",
       "      <td>2004</td>\n",
       "      <td>Number</td>\n",
       "      <td>507419</td>\n",
       "    </tr>\n",
       "  </tbody>\n",
       "</table>\n",
       "</div>"
      ],
      "text/plain": [
       "  LocationType       Location  TimeFrame DataFormat    Data\n",
       "0       Nation  United States       2000     Number  544303\n",
       "1       Nation  United States       2001     Number  544614\n",
       "2       Nation  United States       2002     Number  532717\n",
       "3       Nation  United States       2003     Number  519482\n",
       "4       Nation  United States       2004     Number  507419"
      ]
     },
     "execution_count": 22,
     "metadata": {},
     "output_type": "execute_result"
    }
   ],
   "source": [
    "location = \"documents/Children in Foster Care.xlsx\"\n",
    "df = pd.read_excel(location) #overwrites the info from the df variable in the examples above\n",
    "df.head()"
   ]
  },
  {
   "cell_type": "code",
   "execution_count": 15,
   "metadata": {},
   "outputs": [
    {
     "data": {
      "text/plain": [
       "(955, 5)"
      ]
     },
     "execution_count": 15,
     "metadata": {},
     "output_type": "execute_result"
    }
   ],
   "source": [
    "df. shape"
   ]
  },
  {
   "cell_type": "code",
   "execution_count": 16,
   "metadata": {},
   "outputs": [
    {
     "data": {
      "text/plain": [
       "Index(['LocationType', 'Location', 'TimeFrame', 'DataFormat', 'Data'], dtype='object')"
      ]
     },
     "execution_count": 16,
     "metadata": {},
     "output_type": "execute_result"
    }
   ],
   "source": [
    "df. columns"
   ]
  },
  {
   "cell_type": "code",
   "execution_count": 17,
   "metadata": {},
   "outputs": [
    {
     "data": {
      "text/plain": [
       "<bound method NDFrame.describe of     LocationType              Location  TimeFrame DataFormat    Data\n",
       "0         Nation         United States       2000     Number  544303\n",
       "1         Nation         United States       2001     Number  544614\n",
       "2         Nation         United States       2002     Number  532717\n",
       "3         Nation         United States       2003     Number  519482\n",
       "4         Nation         United States       2004     Number  507419\n",
       "5         Nation         United States       2005     Number  511318\n",
       "6         Nation         United States       2006     Number  510885\n",
       "7         Nation         United States       2007     Number  486619\n",
       "8         Nation         United States       2008     Number  459828\n",
       "9         Nation         United States       2013     Number  402172\n",
       "10        Nation         United States       2009     Number  423773\n",
       "11        Nation         United States       2015     Number  427901\n",
       "12        Nation         United States       2010     Number  408425\n",
       "13        Nation         United States       2011     Number  397885\n",
       "14        Nation         United States       2012     Number  397091\n",
       "15        Nation         United States       2014     Number  415129\n",
       "16        Nation         United States       2016     Number  437465\n",
       "17        Nation         United States       2017     Number  442995\n",
       "18         State               Alabama       2017     Number    5631\n",
       "19         State               Alabama       2014     Number    4556\n",
       "20         State               Alabama       2016     Number    5053\n",
       "21         State               Alabama       2012     Number    4561\n",
       "22         State               Alabama       2011     Number    5253\n",
       "23         State               Alabama       2010     Number    5350\n",
       "24         State               Alabama       2015     Number    4745\n",
       "25         State               Alabama       2009     Number    6894\n",
       "26         State               Alabama       2013     Number    4532\n",
       "27         State               Alabama       2007     Number    7097\n",
       "28         State               Alabama       2008     Number    6876\n",
       "29         State               Alabama       2006     Number    7157\n",
       "..           ...                   ...        ...        ...     ...\n",
       "925         City  District of Columbia       2013     Number    1311\n",
       "926         City  District of Columbia       2009     Number    2111\n",
       "927         City  District of Columbia       2007     Number    2148\n",
       "928         City  District of Columbia       2008     Number    2217\n",
       "929         City  District of Columbia       2006     Number    2368\n",
       "930         City  District of Columbia       2004     Number    2608\n",
       "931         City  District of Columbia       2005     Number    2519\n",
       "932         City  District of Columbia       2003     Number    3092\n",
       "933         City  District of Columbia       2001     Number    3339\n",
       "934         City  District of Columbia       2002     Number    3321\n",
       "935         City  District of Columbia       2000     Number    3054\n",
       "936    Territory           Puerto Rico       2000     Number    N.A.\n",
       "937    Territory           Puerto Rico       2001     Number    8476\n",
       "938    Territory           Puerto Rico       2003     Number    7585\n",
       "939    Territory           Puerto Rico       2002     Number    8179\n",
       "940    Territory           Puerto Rico       2005     Number    6786\n",
       "941    Territory           Puerto Rico       2004     Number    7663\n",
       "942    Territory           Puerto Rico       2007     Number    6330\n",
       "943    Territory           Puerto Rico       2006     Number    6661\n",
       "944    Territory           Puerto Rico       2009     Number    5351\n",
       "945    Territory           Puerto Rico       2010     Number    4476\n",
       "946    Territory           Puerto Rico       2008     Number    6185\n",
       "947    Territory           Puerto Rico       2013     Number    4197\n",
       "948    Territory           Puerto Rico       2015     Number    4189\n",
       "949    Territory           Puerto Rico       2011     Number    4363\n",
       "950    Territory           Puerto Rico       2012     Number    4310\n",
       "951    Territory           Puerto Rico       2014     Number    3696\n",
       "952    Territory           Puerto Rico       2017     Number    4539\n",
       "953    Territory           Puerto Rico       2016     Number    4264\n",
       "954    Territory        Virgin Islands       2011     Number    N.A.\n",
       "\n",
       "[955 rows x 5 columns]>"
      ]
     },
     "execution_count": 17,
     "metadata": {},
     "output_type": "execute_result"
    }
   ],
   "source": [
    "df. describe"
   ]
  },
  {
   "cell_type": "code",
   "execution_count": 18,
   "metadata": {},
   "outputs": [
    {
     "data": {
      "text/html": [
       "<div>\n",
       "<style scoped>\n",
       "    .dataframe tbody tr th:only-of-type {\n",
       "        vertical-align: middle;\n",
       "    }\n",
       "\n",
       "    .dataframe tbody tr th {\n",
       "        vertical-align: top;\n",
       "    }\n",
       "\n",
       "    .dataframe thead th {\n",
       "        text-align: right;\n",
       "    }\n",
       "</style>\n",
       "<table border=\"1\" class=\"dataframe\">\n",
       "  <thead>\n",
       "    <tr style=\"text-align: right;\">\n",
       "      <th></th>\n",
       "      <th>LocationType</th>\n",
       "      <th>Location</th>\n",
       "      <th>TimeFrame</th>\n",
       "      <th>DataFormat</th>\n",
       "      <th>Data</th>\n",
       "    </tr>\n",
       "  </thead>\n",
       "  <tbody>\n",
       "  </tbody>\n",
       "</table>\n",
       "</div>"
      ],
      "text/plain": [
       "Empty DataFrame\n",
       "Columns: [LocationType, Location, TimeFrame, DataFormat, Data]\n",
       "Index: []"
      ]
     },
     "execution_count": 18,
     "metadata": {},
     "output_type": "execute_result"
    }
   ],
   "source": [
    "dupe = df.duplicated() #creates list of True/False values\n",
    "df[dupe] #shows rows where duplicated is True"
   ]
  },
  {
   "cell_type": "code",
   "execution_count": 21,
   "metadata": {},
   "outputs": [
    {
     "data": {
      "text/html": [
       "<div>\n",
       "<style scoped>\n",
       "    .dataframe tbody tr th:only-of-type {\n",
       "        vertical-align: middle;\n",
       "    }\n",
       "\n",
       "    .dataframe tbody tr th {\n",
       "        vertical-align: top;\n",
       "    }\n",
       "\n",
       "    .dataframe thead th {\n",
       "        text-align: right;\n",
       "    }\n",
       "</style>\n",
       "<table border=\"1\" class=\"dataframe\">\n",
       "  <thead>\n",
       "    <tr style=\"text-align: right;\">\n",
       "      <th></th>\n",
       "      <th>Location Type</th>\n",
       "      <th>Location</th>\n",
       "      <th>TimeFrame</th>\n",
       "      <th>DataFormat</th>\n",
       "      <th>Data</th>\n",
       "    </tr>\n",
       "  </thead>\n",
       "  <tbody>\n",
       "  </tbody>\n",
       "</table>\n",
       "</div>"
      ],
      "text/plain": [
       "Empty DataFrame\n",
       "Columns: [Location Type, Location, TimeFrame, DataFormat, Data]\n",
       "Index: []"
      ]
     },
     "execution_count": 21,
     "metadata": {},
     "output_type": "execute_result"
    }
   ],
   "source": [
    "df = pd.DataFrame(columns=['Location Type','Location', 'TimeFrame','DataFormat','Data'])\n",
    "df.to_csv('Children in Foster Care.csv',index=False,header=False)\n",
    "df"
   ]
  },
  {
   "cell_type": "code",
   "execution_count": null,
   "metadata": {},
   "outputs": [],
   "source": []
  }
 ],
 "metadata": {
  "kernelspec": {
   "display_name": "Python 3",
   "language": "python",
   "name": "python3"
  },
  "language_info": {
   "codemirror_mode": {
    "name": "ipython",
    "version": 3
   },
   "file_extension": ".py",
   "mimetype": "text/x-python",
   "name": "python",
   "nbconvert_exporter": "python",
   "pygments_lexer": "ipython3",
   "version": "3.7.3"
  }
 },
 "nbformat": 4,
 "nbformat_minor": 2
}
